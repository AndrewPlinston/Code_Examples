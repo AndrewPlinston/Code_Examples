{
 "cells": [
  {
   "cell_type": "markdown",
   "metadata": {},
   "source": [
<<<<<<< HEAD
    "Part of the Adstock formula is the carry over coefficient. To work out what the carry over coefficient is for each media, it is calculated from within the data. To do this, I used a grid search to run through all of the possible (100,000) combinations to get the highest r square. This was done in R."
=======
    "Part of the Adstock formula is the carry over coefficient. To work out what the carry over coefficient is for each media, it is calculated from within the data. To do this, I used a grid search to run through all of the possible (100,000) combinations to get the highest r square. This was done in R"
>>>>>>> 0a32526a059207e8947b77095a0b6f377057c2e8
   ]
  },
  {
   "cell_type": "code",
   "execution_count": null,
   "metadata": {},
   "outputs": [],
   "source": [
    "#This creates the matrix of all Adstock variable combinations.\n",
    "AdstockTV <- c(\"TV.adstock00\", \"TV.adstock01\", \"TV.adstock02\", \"TV.adstock03\", \"TV.adstock04\",\n",
    "               \"TV.adstock05\",\"TV.adstock06\", \"TV.adstock07\", \"TV.adstock08\", \"TV.adstock09\")\n",
    "AdstockRadio <- c(\"Radio.adstock00\", \"Radio.adstock01\", \"Radio.adstock02\", \"Radio.adstock03\",\n",
    "                  \"Radio.adstock04\",\"Radio.adstock05\", \"Radio.adstock06\", \"Radio.adstock07\",\n",
    "                  \"Radio.adstock08\", \"Radio.adstock09\")\n",
    "AdstockDigital <- c(\"Digital.adstock00\", \"Digital.adstock01\", \"Digital.adstock02\", \"Digital.adstock03\",\n",
    "                    \"Digital.adstock04\", \"Digital.adstock05\", \"Digital.adstock06\", \"Digital.adstock07\",\n",
    "                    \"Digital.adstock08\", \"Digital.adstock09\")\n",
    "AdstockMailer <- c(\"Mailer.adstock00\", \"Mailer.adstock01\", \"Mailer.adstock02\", \"Mailer.adstock03\",\n",
    "                   \"Mailer.adstock04\", \"Mailer.adstock05\", \"Mailer.adstock06\", \"Mailer.adstock07\",\n",
    "                   \"Mailer.adstock08\", \"Mailer.adstock09\")\n",
    "AdstockPress <- c(\"Press.adstock00\", \"Press.adstock01\", \"Press.adstock02\", \"Press.adstock03\",\n",
    "                  \"Press.adstock04\", \"Press.adstock05\", \"Press.adstock06\", \"Press.adstock07\",\n",
    "                  \"Press.adstock08\", \"Press.adstock09\")\n",
    "\n",
    "matrix1 <- matrix(c(AdstockTV, AdstockRadio, AdstockDigital, AdstockMailer, AdstockPress),\n",
    "                  nrow=10, ncol=5)\n",
    "\n",
    "adstock_combinations <- expand.grid(split(matrix1 , col(matrix1)))\n"
   ]
  },
  {
   "cell_type": "code",
   "execution_count": null,
   "metadata": {},
   "outputs": [],
   "source": [
    "#Loads the other variables for the linear model, these are named Regression_Variables and include dummy variables for weekdays,\n",
    "#Christmas, Easter, discount rate, etc.\n",
    "source(\"Regression_Variables.R\")"
   ]
  },
  {
   "cell_type": "code",
   "execution_count": null,
   "metadata": {},
   "outputs": [],
   "source": [
    "#Creates the list of all adstock combinations to use in the equation for the grid search\n",
    "\n",
    "output <- vector(\"double\", nrow(adstock_combinations))  \n",
    "for (i in seq_along(1:100000)) {            \n",
    "  output[[i]] <- paste(adstock_combinations$`1`[[i]], adstock_combinations$`2`[[i]], adstock_combinations$`3`[[i]],\n",
    "                       adstock_combinations$`4`[[i]], adstock_combinations$`5`[[i]], sep = \" + \")      \n",
    "}\n",
    "output"
   ]
  },
  {
   "cell_type": "code",
   "execution_count": null,
   "metadata": {},
   "outputs": [],
   "source": [
    "#Creates the equation to use in the grid search for all adstock combinations, the target is the Log transformed Sales.\n",
    "\n",
    "output2 <- vector(\"double\", nrow(adstock_combinations))  \n",
    "for (i in seq_along(1:100000)) {            \n",
    "  output2[[i]] <- (paste(\"log_sales\", \"~\", output[[i]], \" + \", (paste0(Regression_Variables, collapse=\" + \"))))      \n",
    "}\n",
    "output2"
   ]
  },
  {
   "cell_type": "code",
   "execution_count": null,
   "metadata": {},
   "outputs": [],
   "source": [
    "#Grid search runs through all 100,000 adstock combinations in a linear model and records the R Square for each model.\n",
    "\n",
    "output3 <- vector(\"double\", nrow(adstock_combinations))  \n",
    "for (i in seq_along(1:100000)) {            \n",
    "  output3[[i]] <- (summary(lm(output2[[i]],data=data))$r.square)     \n",
    "}\n",
    "output3"
   ]
  },
  {
   "cell_type": "code",
   "execution_count": null,
   "metadata": {},
   "outputs": [],
   "source": [
    "#Save the R Square output with the Adstock combinations\n",
    "model_eval <- adstock_combinations\n",
    "model_eval$rsq <- output3\n",
    "\n",
    "write.csv(model_eval, \"Grid_Search_Results.csv\")"
   ]
  },
  {
   "cell_type": "code",
   "execution_count": null,
   "metadata": {},
   "outputs": [],
   "source": []
  },
  {
   "cell_type": "code",
   "execution_count": null,
   "metadata": {},
   "outputs": [],
   "source": []
  }
 ],
 "metadata": {
  "kernelspec": {
   "display_name": "Python 3",
   "language": "python",
   "name": "python3"
  },
  "language_info": {
   "codemirror_mode": {
    "name": "ipython",
    "version": 3
   },
   "file_extension": ".py",
   "mimetype": "text/x-python",
   "name": "python",
   "nbconvert_exporter": "python",
   "pygments_lexer": "ipython3",
   "version": "3.6.4"
  }
 },
 "nbformat": 4,
 "nbformat_minor": 2
}
