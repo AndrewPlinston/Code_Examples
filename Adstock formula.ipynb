{
 "cells": [
  {
   "cell_type": "markdown",
   "metadata": {},
   "source": [
    "Advertising Adstock is a term coined by Simon Broadbent, it is used to transform advertising spend into advertising awareness capturing the carry over effect, advertising decay over time and the diminshing returns of advertising.\n",
    "\n",
    "The formula for Adstock is:\n",
    "![](/img/AdstockFormula.JPG)\n",
    "\n",
    "Below is the code that I used to generate television adstock using R, for each lambda from 0.0 to 0.9, where TV_Adspend is the advertising spend on television advertising for the period.\n",
    "\n"
   ]
  },
  {
   "cell_type": "code",
   "execution_count": null,
   "metadata": {},
   "outputs": [],
   "source": [
    "#TV Adstock with Carry-over coefficient 0.9\n",
    "data$TV.adstock09[1] = log(data$TV_Adspend[1] + 1)\n",
    "for(i in 2:length(data$TV_Adspend)){\n",
    "  data$TV.adstock09[i] = ((1-0.9) * log(data$TV_Adspend[i] + 1)) + \n",
    "    (0.9 * data$TV.adstock09[i-1])\n",
    "}"
   ]
  }
 ],
 "metadata": {
  "kernelspec": {
   "display_name": "Python 3",
   "language": "python",
   "name": "python3"
  },
  "language_info": {
   "codemirror_mode": {
    "name": "ipython",
    "version": 3
   },
   "file_extension": ".py",
   "mimetype": "text/x-python",
   "name": "python",
   "nbconvert_exporter": "python",
   "pygments_lexer": "ipython3",
   "version": "3.6.4"
  }
 },
 "nbformat": 4,
 "nbformat_minor": 2
}
